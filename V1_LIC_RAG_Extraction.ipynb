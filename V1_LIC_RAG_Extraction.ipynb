{
  "nbformat": 4,
  "nbformat_minor": 0,
  "metadata": {
    "colab": {
      "provenance": [],
      "gpuType": "T4",
      "authorship_tag": "ABX9TyNUuBL8EsCQL2qDU+XSn72/",
      "include_colab_link": true
    },
    "kernelspec": {
      "name": "python3",
      "display_name": "Python 3"
    },
    "language_info": {
      "name": "python"
    },
    "accelerator": "GPU"
  },
  "cells": [
    {
      "cell_type": "markdown",
      "metadata": {
        "id": "view-in-github",
        "colab_type": "text"
      },
      "source": [
        "<a href=\"https://colab.research.google.com/github/Pranov1984/QA_RAG_Langchain_AdvancedRetriever/blob/main/V1_LIC_RAG_Extraction.ipynb\" target=\"_parent\"><img src=\"https://colab.research.google.com/assets/colab-badge.svg\" alt=\"Open In Colab\"/></a>"
      ]
    },
    {
      "cell_type": "markdown",
      "metadata": {
        "id": "CiwGjVWK4q6F"
      },
      "source": [
        "## Load OpenAI API Credentials\n",
        "\n",
        "Here we load it from a file so we don't explore the credentials on the internet by mistake"
      ]
    },
    {
      "cell_type": "code",
      "execution_count": 1,
      "metadata": {
        "id": "5e1HqI56y7t3"
      },
      "outputs": [],
      "source": [
        "import locale\n",
        "locale.getpreferredencoding = lambda: \"UTF-8\""
      ]
    },
    {
      "cell_type": "code",
      "source": [
        "import yaml\n",
        "\n",
        "with open('api_keys.yml', 'r') as file:\n",
        "    api_creds = yaml.safe_load(file)"
      ],
      "metadata": {
        "id": "N_2pPecnJADh"
      },
      "execution_count": 2,
      "outputs": []
    },
    {
      "cell_type": "code",
      "execution_count": 3,
      "metadata": {
        "id": "eZs7ts6NzADJ",
        "colab": {
          "base_uri": "https://localhost:8080/"
        },
        "outputId": "fab1c001-bc96-4bd3-83ac-cb843118957d"
      },
      "outputs": [
        {
          "output_type": "execute_result",
          "data": {
            "text/plain": [
              "dict_keys(['openai_key', 'ngrok_key'])"
            ]
          },
          "metadata": {},
          "execution_count": 3
        }
      ],
      "source": [
        "api_creds.keys()"
      ]
    },
    {
      "cell_type": "code",
      "execution_count": 4,
      "metadata": {
        "id": "kDe44J0N0NcC"
      },
      "outputs": [],
      "source": [
        "import os\n",
        "\n",
        "os.environ['OPENAI_API_KEY'] = api_creds['openai_key']"
      ]
    },
    {
      "cell_type": "markdown",
      "source": [
        "## 🔹 Step 1.1 — Install Dependencies"
      ],
      "metadata": {
        "id": "mvof-8-eDoaq"
      }
    },
    {
      "cell_type": "code",
      "source": [
        "# Install all required libraries\n",
        "!pip install -q \\\n",
        "  langchain==0.3.11 \\\n",
        "  langchain-openai==0.2.12 \\\n",
        "  langchain-community==0.3.11 \\\n",
        "  langchain-chroma==0.2.2 \\\n",
        "  langchainhub\\\n",
        "  chromadb==0.6.3 \\\n",
        "  tiktoken\\\n",
        "  sentence-transformers==2.7.0 \\\n",
        "  pydantic==2.10.1 \\\n",
        "  PyMuPDF==1.24.0 \\\n",
        "  pyngrok==7.2.2 \\\n",
        "  pypdf \\\n",
        "  transformers # Add transformers explicitly as it's a dependency and might need reinstallation"
      ],
      "metadata": {
        "colab": {
          "base_uri": "https://localhost:8080/"
        },
        "id": "x7fmdwLfDeDS",
        "outputId": "18aab22e-9277-4129-dd56-4485421a41d4"
      },
      "execution_count": 5,
      "outputs": [
        {
          "output_type": "stream",
          "name": "stdout",
          "text": [
            "\u001b[2K     \u001b[90m━━━━━━━━━━━━━━━━━━━━━━━━━━━━━━━━━━━━━━\u001b[0m \u001b[32m169.7/169.7 kB\u001b[0m \u001b[31m11.2 MB/s\u001b[0m eta \u001b[36m0:00:00\u001b[0m\n",
            "\u001b[2K     \u001b[90m━━━━━━━━━━━━━━━━━━━━━━━━━━━━━━━━━━━━━━━━\u001b[0m \u001b[32m61.0/61.0 kB\u001b[0m \u001b[31m5.0 MB/s\u001b[0m eta \u001b[36m0:00:00\u001b[0m\n",
            "\u001b[2K     \u001b[90m━━━━━━━━━━━━━━━━━━━━━━━━━━━━━━━━━━━━━━━━\u001b[0m \u001b[32m67.3/67.3 kB\u001b[0m \u001b[31m6.3 MB/s\u001b[0m eta \u001b[36m0:00:00\u001b[0m\n",
            "\u001b[?25h  Installing build dependencies ... \u001b[?25l\u001b[?25hdone\n",
            "  Getting requirements to build wheel ... \u001b[?25l\u001b[?25hdone\n",
            "  Preparing metadata (pyproject.toml) ... \u001b[?25l\u001b[?25hdone\n",
            "\u001b[2K   \u001b[90m━━━━━━━━━━━━━━━━━━━━━━━━━━━━━━━━━━━━━━━━\u001b[0m \u001b[32m1.0/1.0 MB\u001b[0m \u001b[31m60.5 MB/s\u001b[0m eta \u001b[36m0:00:00\u001b[0m\n",
            "\u001b[2K   \u001b[90m━━━━━━━━━━━━━━━━━━━━━━━━━━━━━━━━━━━━━━━━\u001b[0m \u001b[32m50.7/50.7 kB\u001b[0m \u001b[31m4.4 MB/s\u001b[0m eta \u001b[36m0:00:00\u001b[0m\n",
            "\u001b[2K   \u001b[90m━━━━━━━━━━━━━━━━━━━━━━━━━━━━━━━━━━━━━━━━\u001b[0m \u001b[32m2.5/2.5 MB\u001b[0m \u001b[31m90.1 MB/s\u001b[0m eta \u001b[36m0:00:00\u001b[0m\n",
            "\u001b[2K   \u001b[90m━━━━━━━━━━━━━━━━━━━━━━━━━━━━━━━━━━━━━━━━\u001b[0m \u001b[32m611.1/611.1 kB\u001b[0m \u001b[31m45.2 MB/s\u001b[0m eta \u001b[36m0:00:00\u001b[0m\n",
            "\u001b[2K   \u001b[90m━━━━━━━━━━━━━━━━━━━━━━━━━━━━━━━━━━━━━━━━\u001b[0m \u001b[32m171.5/171.5 kB\u001b[0m \u001b[31m17.0 MB/s\u001b[0m eta \u001b[36m0:00:00\u001b[0m\n",
            "\u001b[2K   \u001b[90m━━━━━━━━━━━━━━━━━━━━━━━━━━━━━━━━━━━━━━━━\u001b[0m \u001b[32m455.3/455.3 kB\u001b[0m \u001b[31m37.9 MB/s\u001b[0m eta \u001b[36m0:00:00\u001b[0m\n",
            "\u001b[2K   \u001b[90m━━━━━━━━━━━━━━━━━━━━━━━━━━━━━━━━━━━━━━━━\u001b[0m \u001b[32m3.9/3.9 MB\u001b[0m \u001b[31m106.6 MB/s\u001b[0m eta \u001b[36m0:00:00\u001b[0m\n",
            "\u001b[2K   \u001b[90m━━━━━━━━━━━━━━━━━━━━━━━━━━━━━━━━━━━━━━━━\u001b[0m \u001b[32m2.4/2.4 MB\u001b[0m \u001b[31m92.7 MB/s\u001b[0m eta \u001b[36m0:00:00\u001b[0m\n",
            "\u001b[2K   \u001b[90m━━━━━━━━━━━━━━━━━━━━━━━━━━━━━━━━━━━━━━━━\u001b[0m \u001b[32m2.1/2.1 MB\u001b[0m \u001b[31m89.3 MB/s\u001b[0m eta \u001b[36m0:00:00\u001b[0m\n",
            "\u001b[2K   \u001b[90m━━━━━━━━━━━━━━━━━━━━━━━━━━━━━━━━━━━━━━━━\u001b[0m \u001b[32m30.8/30.8 MB\u001b[0m \u001b[31m72.4 MB/s\u001b[0m eta \u001b[36m0:00:00\u001b[0m\n",
            "\u001b[2K   \u001b[90m━━━━━━━━━━━━━━━━━━━━━━━━━━━━━━━━━━━━━━━━\u001b[0m \u001b[32m304.2/304.2 kB\u001b[0m \u001b[31m25.3 MB/s\u001b[0m eta \u001b[36m0:00:00\u001b[0m\n",
            "\u001b[2K   \u001b[90m━━━━━━━━━━━━━━━━━━━━━━━━━━━━━━━━━━━━━━━━\u001b[0m \u001b[32m284.2/284.2 kB\u001b[0m \u001b[31m26.6 MB/s\u001b[0m eta \u001b[36m0:00:00\u001b[0m\n",
            "\u001b[2K   \u001b[90m━━━━━━━━━━━━━━━━━━━━━━━━━━━━━━━━━━━━━━━━\u001b[0m \u001b[32m1.9/1.9 MB\u001b[0m \u001b[31m84.0 MB/s\u001b[0m eta \u001b[36m0:00:00\u001b[0m\n",
            "\u001b[2K   \u001b[90m━━━━━━━━━━━━━━━━━━━━━━━━━━━━━━━━━━━━━━━━\u001b[0m \u001b[32m438.5/438.5 kB\u001b[0m \u001b[31m38.4 MB/s\u001b[0m eta \u001b[36m0:00:00\u001b[0m\n",
            "\u001b[2K   \u001b[90m━━━━━━━━━━━━━━━━━━━━━━━━━━━━━━━━━━━━━━━━\u001b[0m \u001b[32m326.9/326.9 kB\u001b[0m \u001b[31m30.9 MB/s\u001b[0m eta \u001b[36m0:00:00\u001b[0m\n",
            "\u001b[2K   \u001b[90m━━━━━━━━━━━━━━━━━━━━━━━━━━━━━━━━━━━━━━━━\u001b[0m \u001b[32m101.6/101.6 kB\u001b[0m \u001b[31m9.9 MB/s\u001b[0m eta \u001b[36m0:00:00\u001b[0m\n",
            "\u001b[2K   \u001b[90m━━━━━━━━━━━━━━━━━━━━━━━━━━━━━━━━━━━━━━━━\u001b[0m \u001b[32m18.3/18.3 MB\u001b[0m \u001b[31m115.2 MB/s\u001b[0m eta \u001b[36m0:00:00\u001b[0m\n",
            "\u001b[2K   \u001b[90m━━━━━━━━━━━━━━━━━━━━━━━━━━━━━━━━━━━━━━━━\u001b[0m \u001b[32m16.4/16.4 MB\u001b[0m \u001b[31m33.0 MB/s\u001b[0m eta \u001b[36m0:00:00\u001b[0m\n",
            "\u001b[2K   \u001b[90m━━━━━━━━━━━━━━━━━━━━━━━━━━━━━━━━━━━━━━━━\u001b[0m \u001b[32m65.8/65.8 kB\u001b[0m \u001b[31m6.1 MB/s\u001b[0m eta \u001b[36m0:00:00\u001b[0m\n",
            "\u001b[2K   \u001b[90m━━━━━━━━━━━━━━━━━━━━━━━━━━━━━━━━━━━━━━━━\u001b[0m \u001b[32m55.7/55.7 kB\u001b[0m \u001b[31m5.7 MB/s\u001b[0m eta \u001b[36m0:00:00\u001b[0m\n",
            "\u001b[2K   \u001b[90m━━━━━━━━━━━━━━━━━━━━━━━━━━━━━━━━━━━━━━━━\u001b[0m \u001b[32m196.2/196.2 kB\u001b[0m \u001b[31m18.9 MB/s\u001b[0m eta \u001b[36m0:00:00\u001b[0m\n",
            "\u001b[2K   \u001b[90m━━━━━━━━━━━━━━━━━━━━━━━━━━━━━━━━━━━━━━━━\u001b[0m \u001b[32m118.5/118.5 kB\u001b[0m \u001b[31m13.1 MB/s\u001b[0m eta \u001b[36m0:00:00\u001b[0m\n",
            "\u001b[2K   \u001b[90m━━━━━━━━━━━━━━━━━━━━━━━━━━━━━━━━━━━━━━━━\u001b[0m \u001b[32m105.4/105.4 kB\u001b[0m \u001b[31m9.8 MB/s\u001b[0m eta \u001b[36m0:00:00\u001b[0m\n",
            "\u001b[2K   \u001b[90m━━━━━━━━━━━━━━━━━━━━━━━━━━━━━━━━━━━━━━━━\u001b[0m \u001b[32m45.2/45.2 kB\u001b[0m \u001b[31m3.9 MB/s\u001b[0m eta \u001b[36m0:00:00\u001b[0m\n",
            "\u001b[2K   \u001b[90m━━━━━━━━━━━━━━━━━━━━━━━━━━━━━━━━━━━━━━━━\u001b[0m \u001b[32m363.4/363.4 MB\u001b[0m \u001b[31m4.7 MB/s\u001b[0m eta \u001b[36m0:00:00\u001b[0m\n",
            "\u001b[2K   \u001b[90m━━━━━━━━━━━━━━━━━━━━━━━━━━━━━━━━━━━━━━━━\u001b[0m \u001b[32m13.8/13.8 MB\u001b[0m \u001b[31m111.0 MB/s\u001b[0m eta \u001b[36m0:00:00\u001b[0m\n",
            "\u001b[2K   \u001b[90m━━━━━━━━━━━━━━━━━━━━━━━━━━━━━━━━━━━━━━━━\u001b[0m \u001b[32m24.6/24.6 MB\u001b[0m \u001b[31m88.0 MB/s\u001b[0m eta \u001b[36m0:00:00\u001b[0m\n",
            "\u001b[2K   \u001b[90m━━━━━━━━━━━━━━━━━━━━━━━━━━━━━━━━━━━━━━━━\u001b[0m \u001b[32m883.7/883.7 kB\u001b[0m \u001b[31m58.1 MB/s\u001b[0m eta \u001b[36m0:00:00\u001b[0m\n",
            "\u001b[2K   \u001b[90m━━━━━━━━━━━━━━━━━━━━━━━━━━━━━━━━━━━━━━━━\u001b[0m \u001b[32m664.8/664.8 MB\u001b[0m \u001b[31m2.1 MB/s\u001b[0m eta \u001b[36m0:00:00\u001b[0m\n",
            "\u001b[2K   \u001b[90m━━━━━━━━━━━━━━━━━━━━━━━━━━━━━━━━━━━━━━━━\u001b[0m \u001b[32m211.5/211.5 MB\u001b[0m \u001b[31m5.3 MB/s\u001b[0m eta \u001b[36m0:00:00\u001b[0m\n",
            "\u001b[2K   \u001b[90m━━━━━━━━━━━━━━━━━━━━━━━━━━━━━━━━━━━━━━━━\u001b[0m \u001b[32m56.3/56.3 MB\u001b[0m \u001b[31m13.3 MB/s\u001b[0m eta \u001b[36m0:00:00\u001b[0m\n",
            "\u001b[2K   \u001b[90m━━━━━━━━━━━━━━━━━━━━━━━━━━━━━━━━━━━━━━━━\u001b[0m \u001b[32m127.9/127.9 MB\u001b[0m \u001b[31m7.6 MB/s\u001b[0m eta \u001b[36m0:00:00\u001b[0m\n",
            "\u001b[2K   \u001b[90m━━━━━━━━━━━━━━━━━━━━━━━━━━━━━━━━━━━━━━━━\u001b[0m \u001b[32m207.5/207.5 MB\u001b[0m \u001b[31m5.0 MB/s\u001b[0m eta \u001b[36m0:00:00\u001b[0m\n",
            "\u001b[2K   \u001b[90m━━━━━━━━━━━━━━━━━━━━━━━━━━━━━━━━━━━━━━━━\u001b[0m \u001b[32m21.1/21.1 MB\u001b[0m \u001b[31m107.7 MB/s\u001b[0m eta \u001b[36m0:00:00\u001b[0m\n",
            "\u001b[2K   \u001b[90m━━━━━━━━━━━━━━━━━━━━━━━━━━━━━━━━━━━━━━━━\u001b[0m \u001b[32m459.8/459.8 kB\u001b[0m \u001b[31m31.6 MB/s\u001b[0m eta \u001b[36m0:00:00\u001b[0m\n",
            "\u001b[2K   \u001b[90m━━━━━━━━━━━━━━━━━━━━━━━━━━━━━━━━━━━━━━━━\u001b[0m \u001b[32m50.9/50.9 kB\u001b[0m \u001b[31m4.8 MB/s\u001b[0m eta \u001b[36m0:00:00\u001b[0m\n",
            "\u001b[2K   \u001b[90m━━━━━━━━━━━━━━━━━━━━━━━━━━━━━━━━━━━━━━━━\u001b[0m \u001b[32m4.0/4.0 MB\u001b[0m \u001b[31m114.4 MB/s\u001b[0m eta \u001b[36m0:00:00\u001b[0m\n",
            "\u001b[2K   \u001b[90m━━━━━━━━━━━━━━━━━━━━━━━━━━━━━━━━━━━━━━━━\u001b[0m \u001b[32m453.1/453.1 kB\u001b[0m \u001b[31m36.7 MB/s\u001b[0m eta \u001b[36m0:00:00\u001b[0m\n",
            "\u001b[2K   \u001b[90m━━━━━━━━━━━━━━━━━━━━━━━━━━━━━━━━━━━━━━━━\u001b[0m \u001b[32m46.0/46.0 kB\u001b[0m \u001b[31m4.3 MB/s\u001b[0m eta \u001b[36m0:00:00\u001b[0m\n",
            "\u001b[2K   \u001b[90m━━━━━━━━━━━━━━━━━━━━━━━━━━━━━━━━━━━━━━━━\u001b[0m \u001b[32m86.8/86.8 kB\u001b[0m \u001b[31m8.1 MB/s\u001b[0m eta \u001b[36m0:00:00\u001b[0m\n",
            "\u001b[?25h  Building wheel for pypika (pyproject.toml) ... \u001b[?25l\u001b[?25hdone\n",
            "\u001b[31mERROR: pip's dependency resolver does not currently take into account all the packages that are installed. This behaviour is the source of the following dependency conflicts.\n",
            "thinc 8.3.6 requires numpy<3.0.0,>=2.0.0, but you have numpy 1.26.4 which is incompatible.\u001b[0m\u001b[31m\n",
            "\u001b[0m"
          ]
        }
      ]
    },
    {
      "cell_type": "markdown",
      "source": [
        "## Step 1.2 — Load and Split LIC Document"
      ],
      "metadata": {
        "id": "4qOHfVNDD3JP"
      }
    },
    {
      "cell_type": "code",
      "source": [
        "from langchain_community.document_loaders import PyPDFLoader\n",
        "\n",
        "loader = PyPDFLoader(\"/content/Final Policy document_LICs New Jeevan Shanti.pdf\")\n",
        "docs = loader.load_and_split()"
      ],
      "metadata": {
        "id": "UE2lHGJuDrzX"
      },
      "execution_count": 6,
      "outputs": []
    },
    {
      "cell_type": "code",
      "source": [],
      "metadata": {
        "id": "qppWG7TWH523"
      },
      "execution_count": 6,
      "outputs": []
    },
    {
      "cell_type": "markdown",
      "source": [
        "## 🔹 Step 1.3 — Embedding with OpenAI & ChromaDB Setup"
      ],
      "metadata": {
        "id": "0e0kwL0MH83w"
      }
    },
    {
      "cell_type": "code",
      "source": [
        "from langchain_openai import OpenAIEmbeddings\n",
        "from langchain.vectorstores import Chroma\n",
        "\n",
        "embedding = OpenAIEmbeddings(model='text-embedding-3-small')\n",
        "vectorstore = Chroma.from_documents(documents=docs, embedding=embedding, persist_directory=\"./chromadb\")\n",
        "retriever = vectorstore.as_retriever()"
      ],
      "metadata": {
        "id": "K24BDCi2H50B"
      },
      "execution_count": 7,
      "outputs": []
    },
    {
      "cell_type": "code",
      "source": [],
      "metadata": {
        "id": "EihqKP8jIPBb"
      },
      "execution_count": 7,
      "outputs": []
    },
    {
      "cell_type": "markdown",
      "source": [
        "## 🔹 Step 1.4 — Advanced Retriever: Contextual Compression Retriever"
      ],
      "metadata": {
        "id": "ghl8fFYpIQ3M"
      }
    },
    {
      "cell_type": "code",
      "source": [
        "from langchain.retrievers import ContextualCompressionRetriever\n",
        "from langchain.retrievers.document_compressors import LLMChainExtractor\n",
        "from langchain.chat_models import ChatOpenAI\n",
        "\n",
        "compressor_llm = ChatOpenAI(model=\"gpt-4\", temperature=0)\n",
        "compressor = LLMChainExtractor.from_llm(compressor_llm)\n",
        "compression_retriever = ContextualCompressionRetriever(base_compressor=compressor, base_retriever=retriever)"
      ],
      "metadata": {
        "colab": {
          "base_uri": "https://localhost:8080/"
        },
        "id": "rei2hImZIO-i",
        "outputId": "c953d55b-c8f8-4ab6-b14c-1c6967d01240"
      },
      "execution_count": 8,
      "outputs": [
        {
          "output_type": "stream",
          "name": "stderr",
          "text": [
            "/tmp/ipython-input-8-2611507917.py:5: LangChainDeprecationWarning: The class `ChatOpenAI` was deprecated in LangChain 0.0.10 and will be removed in 1.0. An updated version of the class exists in the :class:`~langchain-openai package and should be used instead. To use it run `pip install -U :class:`~langchain-openai` and import as `from :class:`~langchain_openai import ChatOpenAI``.\n",
            "  compressor_llm = ChatOpenAI(model=\"gpt-4\", temperature=0)\n"
          ]
        }
      ]
    },
    {
      "cell_type": "code",
      "source": [],
      "metadata": {
        "id": "qkkLI_VvD6qD"
      },
      "execution_count": 8,
      "outputs": []
    },
    {
      "cell_type": "markdown",
      "source": [
        "##  Step 1.5 — Build LCEL Chain: Retriever + Prompt + LLM"
      ],
      "metadata": {
        "id": "NcbR1QlaIdMD"
      }
    },
    {
      "cell_type": "code",
      "source": [
        "from langchain.prompts import ChatPromptTemplate\n",
        "from langchain_core.runnables import RunnableMap\n",
        "from langchain_core.output_parsers import StrOutputParser\n",
        "from langchain.chat_models import ChatOpenAI\n",
        "\n",
        "# LLM\n",
        "llm = ChatOpenAI(model=\"gpt-4\", temperature=0)\n",
        "\n",
        "# Prompt Template\n",
        "prompt = ChatPromptTemplate.from_template(\n",
        "    \"\"\"You are a helpful assistant answering questions from LIC policy documents.\n",
        "\n",
        "Context:\n",
        "{context}\n",
        "\n",
        "Question: {question}\n",
        "Answer:\"\"\"\n",
        ")\n",
        "\n",
        "# RAG Chain using LCEL\n",
        "rag_chain = (\n",
        "    # Pass only the 'question' string to the retriever\n",
        "    {\"context\": lambda x: compression_retriever.invoke(x[\"question\"]), \"question\": lambda x: x[\"question\"]}\n",
        "    | RunnableMap({\n",
        "        \"context\": lambda x: \"\\n\\n\".join([doc.page_content for doc in x[\"context\"]]),\n",
        "        \"question\": lambda x: x[\"question\"]\n",
        "    })\n",
        "    | prompt\n",
        "    | llm\n",
        "    | StrOutputParser()\n",
        ")"
      ],
      "metadata": {
        "id": "bUEcB9huIYAX"
      },
      "execution_count": 9,
      "outputs": []
    },
    {
      "cell_type": "markdown",
      "source": [
        "## 🔹 Step 1.6 — Run the Chain"
      ],
      "metadata": {
        "id": "FZdEy1VFJUb4"
      }
    },
    {
      "cell_type": "code",
      "source": [
        "query = {\"question\": \"What is the death benefit under this LIC policy?\"}\n",
        "response = rag_chain.invoke(query)\n",
        "print(\"Answer:\", response)"
      ],
      "metadata": {
        "colab": {
          "base_uri": "https://localhost:8080/"
        },
        "id": "8yQa4e1gIX9e",
        "outputId": "2e9f3ab0-008d-4b6b-e85f-6f80b7481f3a"
      },
      "execution_count": 10,
      "outputs": [
        {
          "output_type": "stream",
          "name": "stdout",
          "text": [
            "Answer: The death benefit under this LIC policy is the higher of the following two options: the purchase price plus accrued additional benefit on death (as specified in Condition 3 of Part C of the policy document) minus the total annuity amount payable till the date of death, or 105% of the purchase price. This benefit is payable to the nominee(s) as per the option exercised by the annuitant as specified in Condition 3 of Part D of the policy document. The options for receiving the death benefit include a lumpsum payment, annuitisation of the death benefit, or in installments over a chosen period of 5, 10, or 15 years.\n"
          ]
        }
      ]
    },
    {
      "cell_type": "markdown",
      "source": [
        "## Correct Answer Retrieved.\n",
        "\n",
        "Let's try a few more questions"
      ],
      "metadata": {
        "id": "_iTNlo-nKzFh"
      }
    },
    {
      "cell_type": "code",
      "source": [
        "query = {\"question\": \"What are the conditions under which the policy can be surrendered and what is the surrender value calculation method?\"}\n",
        "response = rag_chain.invoke(query)\n",
        "print(\"Answer:\", response)"
      ],
      "metadata": {
        "id": "Bf0udjaTLNFW",
        "colab": {
          "base_uri": "https://localhost:8080/"
        },
        "outputId": "0f8db2ca-6822-488d-d02b-619acef753b7"
      },
      "execution_count": null,
      "outputs": [
        {
          "output_type": "stream",
          "name": "stdout",
          "text": [
            "Answer: The policy can be surrendered at any time during the policy term. The surrender value payable will be the higher of the Guaranteed Surrender Value or the Special Surrender Value.\n",
            "\n",
            "The Guaranteed Surrender Value is calculated as the product of the GSV Factor and the Purchase Price, minus the total annuity amount payable up to the date of surrender. The GSV Factor varies depending on the policy year, being 75% for the first three years and 90% for the fifth year and beyond.\n",
            "\n",
            "The Special Surrender Value is determined by the Corporation from time to time, subject to prior approval of IRDAI.\n",
            "\n",
            "If a loan has been taken under the policy, the gross annuity amount originally payable will be deducted for the calculation of the Surrender Value. Any outstanding loan amount along with interest and/or any other amount recoverable from the Annuitant will be recovered from the surrender value payment.\n",
            "\n",
            "In case of QROPS, the surrender provisions will be subject to any specific provisions regarding procedures as per Rules and Regulations of the HMRC.\n",
            "\n",
            "Upon payment of the surrender value, the policy will terminate and all other benefits will cease.\n"
          ]
        }
      ]
    },
    {
      "cell_type": "markdown",
      "source": [
        "## Correct Answer is retrieved"
      ],
      "metadata": {
        "id": "O435NzmKLtnV"
      }
    },
    {
      "cell_type": "code",
      "source": [
        "query = {\"question\": \"Is there any maturity benefit under this policy?\"}\n",
        "response = rag_chain.invoke(query)\n",
        "print(\"Answer:\", response)"
      ],
      "metadata": {
        "colab": {
          "base_uri": "https://localhost:8080/"
        },
        "id": "-UuBWlCjMPG-",
        "outputId": "1dc8679c-912f-4dde-d998-675a72ef6def"
      },
      "execution_count": null,
      "outputs": [
        {
          "output_type": "stream",
          "name": "stdout",
          "text": [
            "Answer: No, there is no maturity benefit under this policy.\n"
          ]
        }
      ]
    },
    {
      "cell_type": "code",
      "source": [
        "query = {\"question\": \"Is there any maturity benefit under this policy?Justify from policy and reference to the section\"}\n",
        "response = rag_chain.invoke(query)\n",
        "print(\"Answer:\", response)"
      ],
      "metadata": {
        "colab": {
          "base_uri": "https://localhost:8080/"
        },
        "id": "-QM9y2sMMgQ9",
        "outputId": "c9d51fb1-1107-4efd-9514-bda3f6b54189"
      },
      "execution_count": null,
      "outputs": [
        {
          "output_type": "stream",
          "name": "stdout",
          "text": [
            "Answer: No, there is no maturity benefit under this policy. This is explicitly stated in the section titled \"Maturity Benefit\" which says, \"There is no maturity benefit under this policy.\"\n"
          ]
        }
      ]
    },
    {
      "cell_type": "code",
      "source": [
        "query = {\"question\": \"What are the options available to the nominee(s) for receiving the death benefit amount?\"}\n",
        "response = rag_chain.invoke(query)\n",
        "print(\"Answer:\", response)"
      ],
      "metadata": {
        "colab": {
          "base_uri": "https://localhost:8080/"
        },
        "id": "PJwCaCLcNBwC",
        "outputId": "733695c2-1b8f-466f-c03f-c942a962fdbb"
      },
      "execution_count": null,
      "outputs": [
        {
          "output_type": "stream",
          "name": "stdout",
          "text": [
            "Answer: The nominee(s) can receive the death benefit amount in one of the following ways, as chosen by the Annuitant(s):\n",
            "\n",
            "1. Lumpsum Death Benefit: The entire benefit amount payable on death is paid to the nominee(s) in a lump sum.\n",
            "\n",
            "2. Annuitisation of Death Benefit: The benefit amount payable on death is used to purchase an Immediate Annuity from the Corporation for the nominee(s), effective from the date of death of the annuitant/last survivor. The annuity amount payable to the nominee(s) is based on the age of the nominee(s) and immediate annuity rates prevailing as on the date of death of the Annuitant.\n",
            "\n",
            "3. In Installment: The benefit amount payable on death can be received in installments over the chosen period of 5 or 10 or 15 years instead of a lump sum amount. The installments are paid in advance at yearly or half-yearly or quarterly or monthly intervals, subject to minimum installment amounts for different modes of payments. If the Net Claim Amount is less than the required amount to provide the minimum installment amount as per the option exercised by the Annuitant(s), the claim proceed is paid in a lump sum.\n"
          ]
        }
      ]
    },
    {
      "cell_type": "markdown",
      "source": [
        "## Correct Answer"
      ],
      "metadata": {
        "id": "MTpAE3TgNd-L"
      }
    },
    {
      "cell_type": "code",
      "source": [
        "query = {\"question\": \"How is the “Additional Benefit on Death” calculated during the deferment period?\"}\n",
        "response = rag_chain.invoke(query)\n",
        "print(\"Answer:\", response)"
      ],
      "metadata": {
        "colab": {
          "base_uri": "https://localhost:8080/"
        },
        "id": "31RpX0xQNsUf",
        "outputId": "bb94d047-190e-4046-f768-3b116ddc0c65"
      },
      "execution_count": null,
      "outputs": [
        {
          "output_type": "stream",
          "name": "stdout",
          "text": [
            "Answer: The \"Additional Benefit on Death\" during the deferment period is calculated monthly. The formula for this is: \n",
            "\n",
            "Additional Benefit on Death per month = (Purchase Price * Annuity rate p.a. payable monthly) / 12 \n",
            "\n",
            "The Annuity rate per annum payable monthly is equal to the Monthly tabular annuity rate and depends on the Option chosen, Age at entry of the annuitant(s) and the Deferment Period opted for. \n",
            "\n",
            "In case of death of the annuitant or surrender of the policy during the Deferment Period, Additional Benefit on Death for the policy year in which the death/surrender has occurred shall accrue till the completed policy month as on the date of death/surrender.\n"
          ]
        }
      ]
    },
    {
      "cell_type": "code",
      "source": [
        "query = {\"question\": \"Provide the formula for 'Additional Benefit on Death'\"}\n",
        "response = rag_chain.invoke(query)\n",
        "print(\"Answer:\", response)"
      ],
      "metadata": {
        "colab": {
          "base_uri": "https://localhost:8080/"
        },
        "id": "yRq-RIxhKuiB",
        "outputId": "904f5517-17a8-4056-90ee-9d7e26862c79"
      },
      "execution_count": null,
      "outputs": [
        {
          "output_type": "stream",
          "name": "stdout",
          "text": [
            "Answer: The formula for 'Additional Benefit on Death' per month is = (Purchase Price * Annuity rate p.a. payable monthly) / 12\n"
          ]
        }
      ]
    },
    {
      "cell_type": "code",
      "source": [
        "query = {\"question\": \"What is the policy name\"}\n",
        "response = rag_chain.invoke(query)\n",
        "print(\"Answer:\", response)"
      ],
      "metadata": {
        "colab": {
          "base_uri": "https://localhost:8080/"
        },
        "id": "HMjcVqZwKueO",
        "outputId": "cad7e3e2-5518-4472-95c7-c3f9559b90aa"
      },
      "execution_count": null,
      "outputs": [
        {
          "output_type": "stream",
          "name": "stdout",
          "text": [
            "Answer: The policy name is LIC’s New Jeevan Shanti.\n"
          ]
        }
      ]
    },
    {
      "cell_type": "code",
      "source": [
        "query = {\"question\": \"Plan Type?\"}\n",
        "response = rag_chain.invoke(query)\n",
        "print(\"Answer:\", response)"
      ],
      "metadata": {
        "colab": {
          "base_uri": "https://localhost:8080/"
        },
        "id": "QTqvLJq8Kucu",
        "outputId": "015d2768-720d-4224-ad1f-0f950674ca14"
      },
      "execution_count": null,
      "outputs": [
        {
          "output_type": "stream",
          "name": "stdout",
          "text": [
            "Answer: Non-Linked, Non-Participating, Individual, Single Premium, Deferred Annuity Plan\n"
          ]
        }
      ]
    },
    {
      "cell_type": "code",
      "source": [
        "query = {\"question\": \"Minimum Vesting Age?\"}\n",
        "response = rag_chain.invoke(query)\n",
        "print(\"Answer:\", response)"
      ],
      "metadata": {
        "colab": {
          "base_uri": "https://localhost:8080/"
        },
        "id": "ycxdnr-WOwYH",
        "outputId": "093dc29b-7014-4c15-b33c-0ecb83f36928"
      },
      "execution_count": null,
      "outputs": [
        {
          "output_type": "stream",
          "name": "stdout",
          "text": [
            "Answer: 55 years\n"
          ]
        }
      ]
    },
    {
      "cell_type": "code",
      "source": [
        "query = {\"question\": \"Free-Look Period?\"}\n",
        "response = rag_chain.invoke(query)\n",
        "print(\"Answer:\", response)"
      ],
      "metadata": {
        "colab": {
          "base_uri": "https://localhost:8080/"
        },
        "id": "2DQu0fFVOwUx",
        "outputId": "ca6baa1e-f85c-4888-ddba-0583f7f98e60"
      },
      "execution_count": null,
      "outputs": [
        {
          "output_type": "stream",
          "name": "stdout",
          "text": [
            "Answer: The Free Look Period is a period of 30 days from the date of receipt of the electronic or physical mode of Policy Document, whichever is earlier, by the Policyholder. During this period, the Policyholder can review the terms and conditions of the policy. If the Policyholder disagrees with any of the terms and conditions, they have the option to return the policy. If the policy is returned during the Free Look Period, the Corporation will cancel the Policy and return the Premium paid after deducting charges for stamp duty and annuity paid, if any. This condition is only applicable in case of new purchase of Deferred Annuity plan.\n"
          ]
        }
      ]
    },
    {
      "cell_type": "code",
      "source": [
        "query = {\"question\": \"Loan Eligibility?\"}\n",
        "response = rag_chain.invoke(query)\n",
        "print(\"Answer:\", response)"
      ],
      "metadata": {
        "colab": {
          "base_uri": "https://localhost:8080/"
        },
        "id": "Clxmmc_TOwSm",
        "outputId": "4b8d0455-c9aa-4862-a9bc-6003c2941971"
      },
      "execution_count": null,
      "outputs": [
        {
          "output_type": "stream",
          "name": "stdout",
          "text": [
            "Answer: A loan facility is available at any time after three months from the completion of the policy or after the expiry of the free-look period, whichever is later. This is subject to the terms and conditions within the surrender value of the policy. Under joint life, the loan can be availed by the Primary Annuitant and in the absence of the Primary Annuitant, the same can be availed by the Secondary Annuitant. The maximum amount of loan that can be granted under the policy shall be such that the effective annual interest amount payable on loan does not exceed 50% of the annual annuity amount payable under the policy subject to a maximum of 80% of Surrender Value.\n"
          ]
        }
      ]
    },
    {
      "cell_type": "markdown",
      "source": [
        "## Phase 2: Modularize for LLM & Embedding Switching (LCEL Compatible)\n",
        "\n",
        "🔹 Step 2.1 — Configurable Embedding Loader\n"
      ],
      "metadata": {
        "id": "O40pgEVYKASy"
      }
    },
    {
      "cell_type": "markdown",
      "source": [
        "### Define a function to switch between OpenAI and HuggingFace embeddings:"
      ],
      "metadata": {
        "id": "bcpBAA3RSGkt"
      }
    },
    {
      "cell_type": "code",
      "source": [
        "def get_embedding_model(provider=\"openai\"):\n",
        "    if provider == \"openai\":\n",
        "        from langchain_openai import OpenAIEmbeddings\n",
        "        return OpenAIEmbeddings(model='text-embedding-3-small')\n",
        "    elif provider == \"huggingface\":\n",
        "        from langchain.embeddings import HuggingFaceEmbeddings\n",
        "        return HuggingFaceEmbeddings(model_name=\"sentence-transformers/all-MiniLM-L6-v2\")\n",
        "    else:\n",
        "        raise ValueError(\"Unsupported embedding provider.\")"
      ],
      "metadata": {
        "id": "AbE4cdnbIX40"
      },
      "execution_count": 11,
      "outputs": []
    },
    {
      "cell_type": "markdown",
      "source": [
        "## 🔹 Step 2.2 — Configurable LLM Loader\n",
        "Support GPT-4, GPT-4o, GPT-3.5, Mistral (local/HuggingFace):"
      ],
      "metadata": {
        "id": "vP6AbuwRSNyR"
      }
    },
    {
      "cell_type": "code",
      "source": [
        "def get_llm(model_name=\"gpt-4\", provider=\"openai\"):\n",
        "    if provider == \"openai\":\n",
        "        from langchain.chat_models import ChatOpenAI\n",
        "        return ChatOpenAI(model=model_name, temperature=0)\n",
        "    elif provider == \"ollama\":\n",
        "        from langchain_community.llms import Ollama\n",
        "        return Ollama(model=model_name)\n",
        "    else:\n",
        "        raise ValueError(\"Unsupported LLM provider.\")"
      ],
      "metadata": {
        "id": "m31WDGQMIX0y"
      },
      "execution_count": 12,
      "outputs": []
    },
    {
      "cell_type": "code",
      "source": [],
      "metadata": {
        "id": "V2qR9qXpIXzT"
      },
      "execution_count": 12,
      "outputs": []
    },
    {
      "cell_type": "markdown",
      "source": [
        "## 🔹 Step 2.3 — Vectorstore & Compression Retriever Builder"
      ],
      "metadata": {
        "id": "EkZhaNAySoDw"
      }
    },
    {
      "cell_type": "code",
      "source": [
        "def build_advanced_retriever(docs, embedding, llm, persist_path=\"./chromadb\"):\n",
        "    from langchain.vectorstores import Chroma\n",
        "    from langchain.retrievers import ContextualCompressionRetriever\n",
        "    from langchain.retrievers.document_compressors import LLMChainExtractor\n",
        "\n",
        "    vs = Chroma.from_documents(documents=docs, embedding=embedding, persist_directory=persist_path)\n",
        "    retriever = vs.as_retriever()\n",
        "    compressor = LLMChainExtractor.from_llm(llm)\n",
        "    return ContextualCompressionRetriever(base_compressor=compressor, base_retriever=retriever)"
      ],
      "metadata": {
        "id": "hdcLceuNIXvd"
      },
      "execution_count": 13,
      "outputs": []
    },
    {
      "cell_type": "markdown",
      "source": [
        "## 🔹 Step 2.4 — Build Full RAG Chain (Modular)"
      ],
      "metadata": {
        "id": "OzVRopCVSv7-"
      }
    },
    {
      "cell_type": "code",
      "source": [
        "def build_rag_chain(llm, compression_retriever):\n",
        "    from langchain.prompts import ChatPromptTemplate\n",
        "    from langchain_core.output_parsers import StrOutputParser\n",
        "    from langchain_core.runnables import RunnableMap\n",
        "\n",
        "    prompt = ChatPromptTemplate.from_template(\n",
        "        \"\"\"You are a helpful assistant answering questions from LIC policy documents.\n",
        "\n",
        "Context:\n",
        "{context}\n",
        "\n",
        "Question: {question}\n",
        "Answer:\"\"\"\n",
        "    )\n",
        "\n",
        "    chain = (\n",
        "        {\"context\": lambda x: compression_retriever.invoke(x[\"question\"]), \"question\": lambda x: x[\"question\"]}\n",
        "        | RunnableMap({\n",
        "            \"context\": lambda x: \"\\n\\n\".join([doc.page_content for doc in x[\"context\"]]),\n",
        "            \"question\": lambda x: x[\"question\"]\n",
        "        })\n",
        "        | prompt\n",
        "        | llm\n",
        "        | StrOutputParser()\n",
        "    )\n",
        "    return chain"
      ],
      "metadata": {
        "id": "7bQT4L72TPtt"
      },
      "execution_count": 14,
      "outputs": []
    },
    {
      "cell_type": "code",
      "source": [
        "# Load and split\n",
        "loader = PyPDFLoader(\"/content/Final Policy document_LICs New Jeevan Shanti.pdf\")\n",
        "raw_docs = loader.load()\n",
        "\n",
        "# Build components\n",
        "embedding = get_embedding_model(\"openai\")\n",
        "llm_core = get_llm(\"gpt-4\", provider=\"openai\")\n",
        "compression_retriever = build_advanced_retriever(raw_docs, embedding, llm_core)\n",
        "\n",
        "# Build and run RAG chain\n",
        "rag_chain = build_rag_chain(llm_core, compression_retriever)"
      ],
      "metadata": {
        "id": "4UnHFbuWZxHK"
      },
      "execution_count": 15,
      "outputs": []
    },
    {
      "cell_type": "code",
      "source": [
        "result = rag_chain.invoke({\"question\": \"What is the death benefit under this LIC policy?\"})\n",
        "print(result)"
      ],
      "metadata": {
        "colab": {
          "base_uri": "https://localhost:8080/"
        },
        "id": "kmkzhEVpC_nV",
        "outputId": "ace6a0a8-1184-4306-cbb6-a3909e40966f"
      },
      "execution_count": 16,
      "outputs": [
        {
          "output_type": "stream",
          "name": "stdout",
          "text": [
            "The death benefit under this LIC policy is the higher of either the Purchase Price plus Accrued Additional Benefit on Death (as specified in Condition 3 of Part C of this policy document) minus the total annuity amount payable till the date of death, or 105% of the Purchase Price. This benefit is payable to the nominee(s) as per the option exercised by the Annuitant as specified in Condition 3 of Part D of this policy document.\n"
          ]
        }
      ]
    },
    {
      "cell_type": "code",
      "source": [
        "result = rag_chain.invoke({\"question\": \"What is the policy type?\"})\n",
        "print(result)"
      ],
      "metadata": {
        "colab": {
          "base_uri": "https://localhost:8080/"
        },
        "id": "MvPcd2WX7u64",
        "outputId": "9f135ef2-116d-41ac-e496-67dfd1436f1d"
      },
      "execution_count": null,
      "outputs": [
        {
          "output_type": "stream",
          "name": "stdout",
          "text": [
            "The policy type is Joint Life annuity.\n"
          ]
        }
      ]
    },
    {
      "cell_type": "code",
      "source": [
        "result = rag_chain.invoke({\"question\": \"What is the Plan Type?\"})\n",
        "print(result)"
      ],
      "metadata": {
        "colab": {
          "base_uri": "https://localhost:8080/"
        },
        "id": "bcgzTl2iIXuE",
        "outputId": "4bbbc70e-7c23-4dc9-f030-f536beb8551a"
      },
      "execution_count": null,
      "outputs": [
        {
          "output_type": "stream",
          "name": "stdout",
          "text": [
            "The plan type is a Non-Linked, Non-Participating, Individual, Single Premium, Deferred Annuity Plan.\n"
          ]
        }
      ]
    },
    {
      "cell_type": "markdown",
      "source": [
        "## Step 2.5 — Example Run with Different Combos"
      ],
      "metadata": {
        "id": "BI_5nd32S6pR"
      }
    },
    {
      "cell_type": "markdown",
      "source": [
        "## Try with GPT-3.5-turbo & embedding model = \"text-embedding-3-large\""
      ],
      "metadata": {
        "id": "2KzcxIIAVsy3"
      }
    },
    {
      "cell_type": "code",
      "source": [
        "result = rag_chain.invoke({\"question\": \"What is the policy name?\"})\n",
        "print(result)"
      ],
      "metadata": {
        "id": "ZJnsIzOV-Wuf"
      },
      "execution_count": null,
      "outputs": []
    },
    {
      "cell_type": "code",
      "source": [
        "# Configure components\n",
        "# Load and split\n",
        "loader = PyPDFLoader(\"/content/Final Policy document_LICs New Jeevan Shanti.pdf\")\n",
        "raw_docs = loader.load()\n",
        "\n",
        "# Build components\n",
        "embedding = get_embedding_model(\"openai\")\n",
        "llm_core = get_llm(\"gpt-3.5-turbo\", provider=\"openai\")\n",
        "compression_retriever = build_advanced_retriever(raw_docs, embedding, llm_core)\n",
        "\n",
        "# Build and run RAG chain\n",
        "rag_chain = build_rag_chain(llm_core, compression_retriever)\n",
        "result = rag_chain.invoke({\"question\": \"What is the Plan Type of the LIC's New Jeevan Shanti?\"})\n",
        "print(result)"
      ],
      "metadata": {
        "colab": {
          "base_uri": "https://localhost:8080/"
        },
        "id": "L7YSPUJUVsVJ",
        "outputId": "fa6e95c0-6fd8-4413-ab6e-f5cf7af5a199"
      },
      "execution_count": 17,
      "outputs": [
        {
          "output_type": "stream",
          "name": "stdout",
          "text": [
            "The plan type of LIC's New Jeevan Shanti is a Non-Linked, Non-Participating, Individual, Single Premium, Deferred Annuity Plan.\n"
          ]
        }
      ]
    },
    {
      "cell_type": "code",
      "source": [
        "result = rag_chain.invoke({\"question\":\"Provide the formula for 'Additional Benefit on Death\"})\n",
        "print(result)"
      ],
      "metadata": {
        "colab": {
          "base_uri": "https://localhost:8080/"
        },
        "outputId": "9fd1f349-4ee1-4ccf-932c-1f17721e5cab",
        "id": "QjwSbsXQWXH2"
      },
      "execution_count": 18,
      "outputs": [
        {
          "output_type": "stream",
          "name": "stdout",
          "text": [
            "The formula for Additional Benefit on Death per month is:\n",
            "\n",
            "Additional Benefit on Death per month = (Purchase Price * Annuity rate p.a. payable monthly) / 12\n",
            "\n",
            "Where Annuity rate p.a. payable monthly is equal to the Monthly tabular annuity rate and depends on the Option chosen, Age at entry of the annuitant(s), and the Deferment Period opted for.\n"
          ]
        }
      ]
    },
    {
      "cell_type": "code",
      "source": [
        "result = rag_chain.invoke({\"question\":\"What is the Minimum Vesting Age in the New Jeevan Shanti LIC policy?\"})\n",
        "print(result)"
      ],
      "metadata": {
        "colab": {
          "base_uri": "https://localhost:8080/"
        },
        "outputId": "be68a310-89d8-4cf9-f858-909753f1c861",
        "id": "M3cX08uzWXH7"
      },
      "execution_count": 21,
      "outputs": [
        {
          "output_type": "stream",
          "name": "stdout",
          "text": [
            "The minimum vesting age in the New Jeevan Shanti LIC policy is 30 years.\n"
          ]
        }
      ]
    },
    {
      "cell_type": "code",
      "source": [],
      "metadata": {
        "id": "knG1qA8CdzOs"
      },
      "execution_count": 21,
      "outputs": []
    },
    {
      "cell_type": "code",
      "source": [
        "\n",
        "result = rag_chain.invoke({\"question\":\"Free-Look Period?\"})\n",
        "print(result)"
      ],
      "metadata": {
        "colab": {
          "base_uri": "https://localhost:8080/"
        },
        "id": "u1vUWNe1drCs",
        "outputId": "8444dbce-11b7-4646-fa41-a5f3c523fa73"
      },
      "execution_count": 22,
      "outputs": [
        {
          "output_type": "stream",
          "name": "stdout",
          "text": [
            "The Free Look Period is a period of 30 days from the date of receipt of the electronic or physical mode of the Policy Document, whichever is earlier, during which the Policyholder can review the terms and conditions of the policy. If the Policyholder is not satisfied with the terms and conditions, they have the option to return the policy to the Corporation within this period. The Corporation will then cancel the policy and return the Premium paid after deducting charges for stamp duty and annuity paid, if any. Please note that the Free Look Period is only applicable in the case of a new purchase of a Deferred Annuity plan and not for purchases from existing funds.\n"
          ]
        }
      ]
    },
    {
      "cell_type": "code",
      "source": [],
      "metadata": {
        "id": "f7xaGNTAWXH8"
      },
      "execution_count": 22,
      "outputs": []
    },
    {
      "cell_type": "code",
      "source": [],
      "metadata": {
        "id": "xnFJFEzlVsTf"
      },
      "execution_count": null,
      "outputs": []
    },
    {
      "cell_type": "markdown",
      "source": [
        "## ✅ Phase 3: Evaluate LLM Answers Using Metrics\n",
        "We’ll compute:\n",
        "\n",
        "Metric\tMethod\n",
        "✅ Faithfulness\tGPT-based evaluator (via LangChain)\n",
        "\n",
        "✅ Relevance\tGPT-based evaluator (via LangChain)\n",
        "\n",
        "✅ Precision\tOverlap between prediction and ground truth tokens\n",
        "\n",
        "✅ Recall\tSame as above\n",
        "\n",
        "✅ F1 Score\tHarmonic mean of precision and recall"
      ],
      "metadata": {
        "id": "KVBs6X8Lfgjz"
      }
    },
    {
      "cell_type": "code",
      "source": [],
      "metadata": {
        "id": "pkgGphRXfsol"
      },
      "execution_count": null,
      "outputs": []
    },
    {
      "cell_type": "code",
      "source": [],
      "metadata": {
        "id": "j0MDblVafslt"
      },
      "execution_count": null,
      "outputs": []
    },
    {
      "cell_type": "markdown",
      "source": [
        "## Step 3.2 — Prepare Inputs: Questions + Ground Truth"
      ],
      "metadata": {
        "id": "BmOIjJ8Pftpr"
      }
    },
    {
      "cell_type": "code",
      "source": [
        "questions = [\n",
        "    \"What is the death benefit under the Joint Life deferred annuity option after the deferment period?\",\n",
        "    \"What are the conditions under which the policy can be surrendered and what is the surrender value calculation method?\",\n",
        "    \"Is there any maturity benefit under this policy? Justify your answer from the policy.\",\n",
        "    \"What are the options available to the nominee(s) for receiving the death benefit amount?\",\n",
        "    \"How is the “Additional Benefit on Death” calculated during the deferment period?\"\n",
        "]\n",
        "\n",
        "ground_truths = [\n",
        "    \"After the deferment period, under the Joint Life deferred annuity option, on the first death, the annuity continues for the surviving annuitant. Upon the death of the last survivor, the death benefit payable is higher of (a) Purchase Price plus Accrued Additional Benefit on Death minus Total annuity amount paid, or (b) 105% of Purchase Price.\",\n",
        "    \"The policy can be surrendered at any time during its term. The surrender value is the higher of Guaranteed Surrender Value (GSV) or Special Surrender Value. GSV is calculated as (GSV Factor * Purchase Price) minus total annuity amount paid. The GSV Factor varies by policy year.\",\n",
        "    \"No, there is no maturity benefit under this policy. This is explicitly stated in Part C of the policy document.\",\n",
        "    \"The nominee can choose from: (1) Lump sum death benefit, (2) Annuitisation of the benefit amount into an immediate annuity, or (3) Receiving the benefit in installments over 5, 10, or 15 years.\",\n",
        "    \"It is calculated as (Purchase Price * Monthly annuity rate) / 12. This accrues at the end of each policy month only during the deferment period.\"\n",
        "]"
      ],
      "metadata": {
        "id": "OYTAVYiCVsFM"
      },
      "execution_count": 23,
      "outputs": []
    },
    {
      "cell_type": "markdown",
      "source": [
        "🔹 Step 3.3 — Run the Chain on All Questions"
      ],
      "metadata": {
        "id": "C5nQneXGfz6T"
      }
    },
    {
      "cell_type": "code",
      "source": [
        "rag_outputs = []\n",
        "for q in questions:\n",
        "    result = rag_chain.invoke({\"question\": q})\n",
        "    rag_outputs.append(result)"
      ],
      "metadata": {
        "id": "ox2WJD_WS4MH"
      },
      "execution_count": 24,
      "outputs": []
    },
    {
      "cell_type": "markdown",
      "source": [
        "## 🔹 Step 3.4 — Compute Faithfulness & Relevance (LLM-Eval)"
      ],
      "metadata": {
        "id": "lIExiQvxf9Mv"
      }
    },
    {
      "cell_type": "code",
      "source": [
        "from langchain.evaluation import load_evaluator\n",
        "\n",
        "faithfulness_criteria = {\"faithfulness\": \"Is the answer fully supported by the relevant information?\"}\n",
        "relevance_criteria = {\"relevance\": \"Is the answer directly relevant to the question asked?\"}\n",
        "\n",
        "faithfulness_evaluator = load_evaluator(\"criteria\", llm=llm_core, criteria=faithfulness_criteria)\n",
        "relevance_evaluator = load_evaluator(\"criteria\", llm=llm_core, criteria=relevance_criteria)\n",
        "\n",
        "faithfulness_scores = []\n",
        "relevance_scores = []\n",
        "\n",
        "for pred, ref, q in zip(rag_outputs, ground_truths, questions):\n",
        "    faith_eval_result = faithfulness_evaluator.evaluate_strings(prediction=pred, reference=ref, input=q)\n",
        "    rel_eval_result = relevance_evaluator.evaluate_strings(prediction=pred, reference=ref, input=q)\n",
        "\n",
        "    # Robust access with fallback\n",
        "    faithfulness_scores.append(faith_eval_result.get(\"score\", 0.0))\n",
        "    relevance_scores.append(rel_eval_result.get(\"score\", 0.0))\n",
        "\n",
        "print(\"Faithfulness Scores:\", faithfulness_scores)\n",
        "print(\"Relevance Scores:\", relevance_scores)"
      ],
      "metadata": {
        "colab": {
          "base_uri": "https://localhost:8080/"
        },
        "id": "jTCBWScaS4J5",
        "outputId": "aa5c81f4-af9d-483c-8fc2-5286b32f3f8d"
      },
      "execution_count": 25,
      "outputs": [
        {
          "output_type": "stream",
          "name": "stderr",
          "text": [
            "/usr/local/lib/python3.11/dist-packages/langchain/evaluation/schema.py:129: UserWarning: Ignoring reference in CriteriaEvalChain, as it is not expected.\n",
            "To use references, use the labeled_criteria instead.\n",
            "  warn(self._skip_reference_warning)\n",
            "/usr/local/lib/python3.11/dist-packages/langchain/evaluation/schema.py:129: UserWarning: Ignoring reference in CriteriaEvalChain, as it is not expected.\n",
            "To use references, use the labeled_criteria instead.\n",
            "  warn(self._skip_reference_warning)\n",
            "/usr/local/lib/python3.11/dist-packages/langchain/evaluation/schema.py:129: UserWarning: Ignoring reference in CriteriaEvalChain, as it is not expected.\n",
            "To use references, use the labeled_criteria instead.\n",
            "  warn(self._skip_reference_warning)\n",
            "/usr/local/lib/python3.11/dist-packages/langchain/evaluation/schema.py:129: UserWarning: Ignoring reference in CriteriaEvalChain, as it is not expected.\n",
            "To use references, use the labeled_criteria instead.\n",
            "  warn(self._skip_reference_warning)\n",
            "/usr/local/lib/python3.11/dist-packages/langchain/evaluation/schema.py:129: UserWarning: Ignoring reference in CriteriaEvalChain, as it is not expected.\n",
            "To use references, use the labeled_criteria instead.\n",
            "  warn(self._skip_reference_warning)\n",
            "/usr/local/lib/python3.11/dist-packages/langchain/evaluation/schema.py:129: UserWarning: Ignoring reference in CriteriaEvalChain, as it is not expected.\n",
            "To use references, use the labeled_criteria instead.\n",
            "  warn(self._skip_reference_warning)\n",
            "/usr/local/lib/python3.11/dist-packages/langchain/evaluation/schema.py:129: UserWarning: Ignoring reference in CriteriaEvalChain, as it is not expected.\n",
            "To use references, use the labeled_criteria instead.\n",
            "  warn(self._skip_reference_warning)\n",
            "/usr/local/lib/python3.11/dist-packages/langchain/evaluation/schema.py:129: UserWarning: Ignoring reference in CriteriaEvalChain, as it is not expected.\n",
            "To use references, use the labeled_criteria instead.\n",
            "  warn(self._skip_reference_warning)\n",
            "/usr/local/lib/python3.11/dist-packages/langchain/evaluation/schema.py:129: UserWarning: Ignoring reference in CriteriaEvalChain, as it is not expected.\n",
            "To use references, use the labeled_criteria instead.\n",
            "  warn(self._skip_reference_warning)\n",
            "/usr/local/lib/python3.11/dist-packages/langchain/evaluation/schema.py:129: UserWarning: Ignoring reference in CriteriaEvalChain, as it is not expected.\n",
            "To use references, use the labeled_criteria instead.\n",
            "  warn(self._skip_reference_warning)\n"
          ]
        },
        {
          "output_type": "stream",
          "name": "stdout",
          "text": [
            "Faithfulness Scores: [1, 1, 1, 1, 1]\n",
            "Relevance Scores: [1, 1, 1, 1, 1]\n"
          ]
        }
      ]
    },
    {
      "cell_type": "markdown",
      "source": [
        "## Step 3.5 — Compute Precision, Recall, F1"
      ],
      "metadata": {
        "id": "-y-XosUkrLd_"
      }
    },
    {
      "cell_type": "code",
      "source": [
        "def compute_token_overlap_metrics(pred, ref):\n",
        "    pred_tokens = set(pred.lower().split())\n",
        "    ref_tokens = set(ref.lower().split())\n",
        "\n",
        "    true_positives = len(pred_tokens & ref_tokens)\n",
        "    precision = true_positives / len(pred_tokens) if pred_tokens else 0\n",
        "    recall = true_positives / len(ref_tokens) if ref_tokens else 0\n",
        "    f1 = (2 * precision * recall) / (precision + recall) if (precision + recall) > 0 else 0\n",
        "    return precision, recall, f1\n",
        "\n",
        "precision_scores = []\n",
        "recall_scores = []\n",
        "f1_scores = []\n",
        "\n",
        "for pred, ref in zip(rag_outputs, ground_truths):\n",
        "    p, r, f1 = compute_token_overlap_metrics(pred, ref)\n",
        "    precision_scores.append(p)\n",
        "    recall_scores.append(r)\n",
        "    f1_scores.append(f1)"
      ],
      "metadata": {
        "id": "tHKRHh0aS4GY"
      },
      "execution_count": 31,
      "outputs": []
    },
    {
      "cell_type": "code",
      "source": [],
      "metadata": {
        "id": "DSixPvQaS4Ej"
      },
      "execution_count": null,
      "outputs": []
    },
    {
      "cell_type": "markdown",
      "source": [
        "## 🔹 Step 3.6 — Final Metrics Table"
      ],
      "metadata": {
        "id": "v5x700kBsD76"
      }
    },
    {
      "cell_type": "code",
      "source": [
        "!pip install -q tabulate\n",
        "from tabulate import tabulate\n",
        "\n",
        "results_table = []\n",
        "for i, (q, r, f) in enumerate(zip(questions, relevance_scores, faithfulness_scores), 1):\n",
        "    results_table.append([i, q[:70] + (\"...\" if len(q) > 70 else \"\"), round(r, 2), round(f, 2)])\n",
        "\n",
        "print(tabulate(results_table, headers=[\"#\", \"Question\", \"Relevance\", \"Faithfulness\"], tablefmt=\"fancy_grid\"))"
      ],
      "metadata": {
        "colab": {
          "base_uri": "https://localhost:8080/"
        },
        "id": "1cyOQo_nS4A4",
        "outputId": "70d08d2d-8439-4ebc-96fb-0b5e37782efc"
      },
      "execution_count": 30,
      "outputs": [
        {
          "output_type": "stream",
          "name": "stdout",
          "text": [
            "╒═════╤═══════════════════════════════════════════════════════════════════════════╤═════════════╤════════════════╕\n",
            "│   # │ Question                                                                  │   Relevance │   Faithfulness │\n",
            "╞═════╪═══════════════════════════════════════════════════════════════════════════╪═════════════╪════════════════╡\n",
            "│   1 │ What is the death benefit under the Joint Life deferred annuity option... │           1 │              1 │\n",
            "├─────┼───────────────────────────────────────────────────────────────────────────┼─────────────┼────────────────┤\n",
            "│   2 │ What are the conditions under which the policy can be surrendered and ... │           1 │              1 │\n",
            "├─────┼───────────────────────────────────────────────────────────────────────────┼─────────────┼────────────────┤\n",
            "│   3 │ Is there any maturity benefit under this policy? Justify your answer f... │           1 │              1 │\n",
            "├─────┼───────────────────────────────────────────────────────────────────────────┼─────────────┼────────────────┤\n",
            "│   4 │ What are the options available to the nominee(s) for receiving the dea... │           1 │              1 │\n",
            "├─────┼───────────────────────────────────────────────────────────────────────────┼─────────────┼────────────────┤\n",
            "│   5 │ How is the “Additional Benefit on Death” calculated during the deferme... │           1 │              1 │\n",
            "╘═════╧═══════════════════════════════════════════════════════════════════════════╧═════════════╧════════════════╛\n"
          ]
        }
      ]
    },
    {
      "cell_type": "code",
      "source": [
        "from langchain.evaluation import load_evaluator\n",
        "\n",
        "# Define binary correctness evaluation\n",
        "correctness_criteria = {\n",
        "    \"correctness\": \"Is the answer factually correct according to the expected ground truth?\"\n",
        "}\n",
        "correctness_evaluator = load_evaluator(\"criteria\", llm=llm_core, criteria=correctness_criteria)\n",
        "\n",
        "correctness_scores = []\n",
        "\n",
        "for pred, ref, q in zip(rag_outputs, ground_truths, questions):\n",
        "    result = correctness_evaluator.evaluate_strings(prediction=pred, reference=ref, input=q)\n",
        "    score = result.get(\"score\", 0.0)  # Fallback if no score key\n",
        "    correctness_scores.append(score)"
      ],
      "metadata": {
        "colab": {
          "base_uri": "https://localhost:8080/"
        },
        "id": "yFGByHBZRYgm",
        "outputId": "12cccda4-1d13-4c72-acbf-3afe6e7e669d"
      },
      "execution_count": 34,
      "outputs": [
        {
          "output_type": "stream",
          "name": "stderr",
          "text": [
            "/usr/local/lib/python3.11/dist-packages/langchain/evaluation/schema.py:129: UserWarning: Ignoring reference in CriteriaEvalChain, as it is not expected.\n",
            "To use references, use the labeled_criteria instead.\n",
            "  warn(self._skip_reference_warning)\n",
            "/usr/local/lib/python3.11/dist-packages/langchain/evaluation/schema.py:129: UserWarning: Ignoring reference in CriteriaEvalChain, as it is not expected.\n",
            "To use references, use the labeled_criteria instead.\n",
            "  warn(self._skip_reference_warning)\n",
            "/usr/local/lib/python3.11/dist-packages/langchain/evaluation/schema.py:129: UserWarning: Ignoring reference in CriteriaEvalChain, as it is not expected.\n",
            "To use references, use the labeled_criteria instead.\n",
            "  warn(self._skip_reference_warning)\n",
            "/usr/local/lib/python3.11/dist-packages/langchain/evaluation/schema.py:129: UserWarning: Ignoring reference in CriteriaEvalChain, as it is not expected.\n",
            "To use references, use the labeled_criteria instead.\n",
            "  warn(self._skip_reference_warning)\n",
            "/usr/local/lib/python3.11/dist-packages/langchain/evaluation/schema.py:129: UserWarning: Ignoring reference in CriteriaEvalChain, as it is not expected.\n",
            "To use references, use the labeled_criteria instead.\n",
            "  warn(self._skip_reference_warning)\n"
          ]
        }
      ]
    },
    {
      "cell_type": "code",
      "source": [
        "from tabulate import tabulate\n",
        "\n",
        "# Build the results\n",
        "results_table = []\n",
        "for i, (q, f, rel, corr) in enumerate(zip(\n",
        "    questions, faithfulness_scores, relevance_scores, correctness_scores), 1):\n",
        "    results_table.append([\n",
        "        i,\n",
        "        q[:60] + (\"...\" if len(q) > 60 else \"\"),\n",
        "        round(f, 2),\n",
        "        round(rel, 2),\n",
        "        round(corr, 2)\n",
        "    ])\n",
        "\n",
        "# Display\n",
        "print(tabulate(\n",
        "    results_table,\n",
        "    headers=[\"#\", \"Question\", \"Faithfulness\", \"Relevance\", \"Correctness\"],\n",
        "    tablefmt=\"fancy_grid\"\n",
        "))\n"
      ],
      "metadata": {
        "id": "KryHeetES3_Y",
        "colab": {
          "base_uri": "https://localhost:8080/"
        },
        "outputId": "41636583-741b-4ae8-b791-9654cf5d2c2a"
      },
      "execution_count": 35,
      "outputs": [
        {
          "output_type": "stream",
          "name": "stdout",
          "text": [
            "╒═════╤═════════════════════════════════════════════════════════════════╤════════════════╤═════════════╤═══════════════╕\n",
            "│   # │ Question                                                        │   Faithfulness │   Relevance │   Correctness │\n",
            "╞═════╪═════════════════════════════════════════════════════════════════╪════════════════╪═════════════╪═══════════════╡\n",
            "│   1 │ What is the death benefit under the Joint Life deferred annu... │              1 │           1 │             1 │\n",
            "├─────┼─────────────────────────────────────────────────────────────────┼────────────────┼─────────────┼───────────────┤\n",
            "│   2 │ What are the conditions under which the policy can be surren... │              1 │           1 │             1 │\n",
            "├─────┼─────────────────────────────────────────────────────────────────┼────────────────┼─────────────┼───────────────┤\n",
            "│   3 │ Is there any maturity benefit under this policy? Justify you... │              1 │           1 │             1 │\n",
            "├─────┼─────────────────────────────────────────────────────────────────┼────────────────┼─────────────┼───────────────┤\n",
            "│   4 │ What are the options available to the nominee(s) for receivi... │              1 │           1 │             1 │\n",
            "├─────┼─────────────────────────────────────────────────────────────────┼────────────────┼─────────────┼───────────────┤\n",
            "│   5 │ How is the “Additional Benefit on Death” calculated during t... │              1 │           1 │             1 │\n",
            "╘═════╧═════════════════════════════════════════════════════════════════╧════════════════╧═════════════╧═══════════════╛\n"
          ]
        }
      ]
    },
    {
      "cell_type": "markdown",
      "source": [
        "The faithfulness and relevance were being calculated against ground truth. Let's switch it to context based.\n",
        "\n",
        "| Metric       | Input                   | Reference              |\n",
        "| ------------ | ----------------------- | ---------------------- |\n",
        "| Faithfulness | 🔹 `question`, `answer` | 🔹 Retrieved context   |\n",
        "| Relevance    | 🔹 `question`, `answer` | 🔹 Retrieved context   |\n",
        "| Correctness  | 🔹 `question`, `answer` | 🔹 Ground truth answer |\n"
      ],
      "metadata": {
        "id": "ZQAPyDkLSUHF"
      }
    },
    {
      "cell_type": "code",
      "source": [
        "from langchain.evaluation import load_evaluator\n",
        "\n",
        "# Evaluators\n",
        "faithfulness_evaluator = load_evaluator(\n",
        "    \"criteria\", llm=llm_core, criteria={\"faithfulness\": \"Is the answer fully supported by the given context?\"})\n",
        "relevance_evaluator = load_evaluator(\n",
        "    \"criteria\", llm=llm_core, criteria={\"relevance\": \"Is the answer directly relevant to the question, given the context?\"})\n",
        "correctness_evaluator = load_evaluator(\n",
        "    \"criteria\", llm=llm_core, criteria={\"correctness\": \"Is the answer factually correct according to the expected ground truth?\"})\n",
        "\n",
        "# Final scores\n",
        "faithfulness_scores = []\n",
        "relevance_scores = []\n",
        "correctness_scores = []\n",
        "\n",
        "for q, gt_answer in zip(questions, ground_truths):\n",
        "    # 1. Get retrieved context and model output\n",
        "    retrieved_docs = compression_retriever.invoke(q)\n",
        "    retrieved_context = \"\\n\".join([doc.page_content for doc in retrieved_docs])\n",
        "    model_answer = rag_chain.invoke({\"question\": q})\n",
        "\n",
        "    # 2. Evaluate\n",
        "    faith_score = faithfulness_evaluator.evaluate_strings(prediction=model_answer, reference=retrieved_context, input=q)\n",
        "    rel_score = relevance_evaluator.evaluate_strings(prediction=model_answer, reference=retrieved_context, input=q)\n",
        "    corr_score = correctness_evaluator.evaluate_strings(prediction=model_answer, reference=gt_answer, input=q)\n",
        "\n",
        "    # 3. Store scores (fallback to 0 if not found)\n",
        "    faithfulness_scores.append(faith_score.get(\"score\", 0.0))\n",
        "    relevance_scores.append(rel_score.get(\"score\", 0.0))\n",
        "    correctness_scores.append(corr_score.get(\"score\", 0.0))\n"
      ],
      "metadata": {
        "id": "mlXAlUTVS37c",
        "colab": {
          "base_uri": "https://localhost:8080/"
        },
        "outputId": "f6c74c7f-1e09-4849-80f7-2d1b1638130d"
      },
      "execution_count": 36,
      "outputs": [
        {
          "output_type": "stream",
          "name": "stderr",
          "text": [
            "/usr/local/lib/python3.11/dist-packages/langchain/evaluation/schema.py:129: UserWarning: Ignoring reference in CriteriaEvalChain, as it is not expected.\n",
            "To use references, use the labeled_criteria instead.\n",
            "  warn(self._skip_reference_warning)\n",
            "/usr/local/lib/python3.11/dist-packages/langchain/evaluation/schema.py:129: UserWarning: Ignoring reference in CriteriaEvalChain, as it is not expected.\n",
            "To use references, use the labeled_criteria instead.\n",
            "  warn(self._skip_reference_warning)\n",
            "/usr/local/lib/python3.11/dist-packages/langchain/evaluation/schema.py:129: UserWarning: Ignoring reference in CriteriaEvalChain, as it is not expected.\n",
            "To use references, use the labeled_criteria instead.\n",
            "  warn(self._skip_reference_warning)\n",
            "/usr/local/lib/python3.11/dist-packages/langchain/evaluation/schema.py:129: UserWarning: Ignoring reference in CriteriaEvalChain, as it is not expected.\n",
            "To use references, use the labeled_criteria instead.\n",
            "  warn(self._skip_reference_warning)\n",
            "/usr/local/lib/python3.11/dist-packages/langchain/evaluation/schema.py:129: UserWarning: Ignoring reference in CriteriaEvalChain, as it is not expected.\n",
            "To use references, use the labeled_criteria instead.\n",
            "  warn(self._skip_reference_warning)\n",
            "/usr/local/lib/python3.11/dist-packages/langchain/evaluation/schema.py:129: UserWarning: Ignoring reference in CriteriaEvalChain, as it is not expected.\n",
            "To use references, use the labeled_criteria instead.\n",
            "  warn(self._skip_reference_warning)\n",
            "/usr/local/lib/python3.11/dist-packages/langchain/evaluation/schema.py:129: UserWarning: Ignoring reference in CriteriaEvalChain, as it is not expected.\n",
            "To use references, use the labeled_criteria instead.\n",
            "  warn(self._skip_reference_warning)\n",
            "/usr/local/lib/python3.11/dist-packages/langchain/evaluation/schema.py:129: UserWarning: Ignoring reference in CriteriaEvalChain, as it is not expected.\n",
            "To use references, use the labeled_criteria instead.\n",
            "  warn(self._skip_reference_warning)\n",
            "/usr/local/lib/python3.11/dist-packages/langchain/evaluation/schema.py:129: UserWarning: Ignoring reference in CriteriaEvalChain, as it is not expected.\n",
            "To use references, use the labeled_criteria instead.\n",
            "  warn(self._skip_reference_warning)\n",
            "/usr/local/lib/python3.11/dist-packages/langchain/evaluation/schema.py:129: UserWarning: Ignoring reference in CriteriaEvalChain, as it is not expected.\n",
            "To use references, use the labeled_criteria instead.\n",
            "  warn(self._skip_reference_warning)\n",
            "/usr/local/lib/python3.11/dist-packages/langchain/evaluation/schema.py:129: UserWarning: Ignoring reference in CriteriaEvalChain, as it is not expected.\n",
            "To use references, use the labeled_criteria instead.\n",
            "  warn(self._skip_reference_warning)\n",
            "/usr/local/lib/python3.11/dist-packages/langchain/evaluation/schema.py:129: UserWarning: Ignoring reference in CriteriaEvalChain, as it is not expected.\n",
            "To use references, use the labeled_criteria instead.\n",
            "  warn(self._skip_reference_warning)\n",
            "/usr/local/lib/python3.11/dist-packages/langchain/evaluation/schema.py:129: UserWarning: Ignoring reference in CriteriaEvalChain, as it is not expected.\n",
            "To use references, use the labeled_criteria instead.\n",
            "  warn(self._skip_reference_warning)\n",
            "/usr/local/lib/python3.11/dist-packages/langchain/evaluation/schema.py:129: UserWarning: Ignoring reference in CriteriaEvalChain, as it is not expected.\n",
            "To use references, use the labeled_criteria instead.\n",
            "  warn(self._skip_reference_warning)\n",
            "/usr/local/lib/python3.11/dist-packages/langchain/evaluation/schema.py:129: UserWarning: Ignoring reference in CriteriaEvalChain, as it is not expected.\n",
            "To use references, use the labeled_criteria instead.\n",
            "  warn(self._skip_reference_warning)\n"
          ]
        }
      ]
    },
    {
      "cell_type": "code",
      "source": [
        "from tabulate import tabulate\n",
        "\n",
        "results_table = []\n",
        "for i, (q, f, rel, corr) in enumerate(zip(\n",
        "    questions, faithfulness_scores, relevance_scores, correctness_scores), 1):\n",
        "    results_table.append([\n",
        "        i,\n",
        "        q[:60] + (\"...\" if len(q) > 60 else \"\"),\n",
        "        round(f, 2),\n",
        "        round(rel, 2),\n",
        "        round(corr, 2)\n",
        "    ])\n",
        "\n",
        "print(tabulate(\n",
        "    results_table,\n",
        "    headers=[\"#\", \"Question\", \"Faithfulness\", \"Relevance\", \"Correctness\"],\n",
        "    tablefmt=\"fancy_grid\"\n",
        "))"
      ],
      "metadata": {
        "id": "cMrEECdFS354",
        "colab": {
          "base_uri": "https://localhost:8080/"
        },
        "outputId": "4c5807d2-0b99-4fa8-9882-561f0b02e02f"
      },
      "execution_count": 37,
      "outputs": [
        {
          "output_type": "stream",
          "name": "stdout",
          "text": [
            "╒═════╤═════════════════════════════════════════════════════════════════╤════════════════╤═════════════╤═══════════════╕\n",
            "│   # │ Question                                                        │   Faithfulness │   Relevance │   Correctness │\n",
            "╞═════╪═════════════════════════════════════════════════════════════════╪════════════════╪═════════════╪═══════════════╡\n",
            "│   1 │ What is the death benefit under the Joint Life deferred annu... │              1 │           1 │             1 │\n",
            "├─────┼─────────────────────────────────────────────────────────────────┼────────────────┼─────────────┼───────────────┤\n",
            "│   2 │ What are the conditions under which the policy can be surren... │              1 │           1 │             1 │\n",
            "├─────┼─────────────────────────────────────────────────────────────────┼────────────────┼─────────────┼───────────────┤\n",
            "│   3 │ Is there any maturity benefit under this policy? Justify you... │              1 │           1 │             1 │\n",
            "├─────┼─────────────────────────────────────────────────────────────────┼────────────────┼─────────────┼───────────────┤\n",
            "│   4 │ What are the options available to the nominee(s) for receivi... │              1 │           1 │             1 │\n",
            "├─────┼─────────────────────────────────────────────────────────────────┼────────────────┼─────────────┼───────────────┤\n",
            "│   5 │ How is the “Additional Benefit on Death” calculated during t... │              1 │           1 │             1 │\n",
            "╘═════╧═════════════════════════════════════════════════════════════════╧════════════════╧═════════════╧═══════════════╛\n"
          ]
        }
      ]
    },
    {
      "cell_type": "code",
      "source": [
        "from tabulate import tabulate\n",
        "\n",
        "results_table = []\n",
        "for i, (q, f, rel, corr, ans, gt) in enumerate(zip(\n",
        "    questions, faithfulness_scores, relevance_scores, correctness_scores, rag_outputs, ground_truths), 1):\n",
        "\n",
        "    results_table.append([\n",
        "        i,\n",
        "        q[:60] + (\"...\" if len(q) > 60 else \"\"),\n",
        "        ans[:100] + (\"...\" if len(ans) > 100 else \"\"),\n",
        "        gt[:100] + (\"...\" if len(gt) > 100 else \"\"),\n",
        "        round(f, 2),\n",
        "        round(rel, 2),\n",
        "        round(corr, 2)\n",
        "    ])\n",
        "\n",
        "print(tabulate(\n",
        "    results_table,\n",
        "    headers=[\"#\", \"Question\", \"Answer\", \"Ground Truth\", \"Faithfulness\", \"Relevance\", \"Correctness\"],\n",
        "    tablefmt=\"fancy_grid\"\n",
        "))"
      ],
      "metadata": {
        "id": "4ZhnbyT8Ss5c",
        "colab": {
          "base_uri": "https://localhost:8080/"
        },
        "outputId": "74c71704-f8e7-47eb-e804-da6ca1abfa59"
      },
      "execution_count": 40,
      "outputs": [
        {
          "output_type": "stream",
          "name": "stdout",
          "text": [
            "╒═════╤═════════════════════════════════════════════════════════════════╤═════════════════════════════════════════════════════════════════════════════════════════════════════════╤═════════════════════════════════════════════════════════════════════════════════════════════════════════╤════════════════╤═════════════╤═══════════════╕\n",
            "│   # │ Question                                                        │ Answer                                                                                                  │ Ground Truth                                                                                            │   Faithfulness │   Relevance │   Correctness │\n",
            "╞═════╪═════════════════════════════════════════════════════════════════╪═════════════════════════════════════════════════════════════════════════════════════════════════════════╪═════════════════════════════════════════════════════════════════════════════════════════════════════════╪════════════════╪═════════════╪═══════════════╡\n",
            "│   1 │ What is the death benefit under the Joint Life deferred annu... │ The death benefit under the Joint Life deferred annuity option after the deferment period is the hig... │ After the deferment period, under the Joint Life deferred annuity option, on the first death, the an... │              1 │           1 │             1 │\n",
            "├─────┼─────────────────────────────────────────────────────────────────┼─────────────────────────────────────────────────────────────────────────────────────────────────────────┼─────────────────────────────────────────────────────────────────────────────────────────────────────────┼────────────────┼─────────────┼───────────────┤\n",
            "│   2 │ What are the conditions under which the policy can be surren... │ The policy can be surrendered under certain conditions, and the surrender value calculation method i... │ The policy can be surrendered at any time during its term. The surrender value is the higher of Guar... │              1 │           1 │             1 │\n",
            "├─────┼─────────────────────────────────────────────────────────────────┼─────────────────────────────────────────────────────────────────────────────────────────────────────────┼─────────────────────────────────────────────────────────────────────────────────────────────────────────┼────────────────┼─────────────┼───────────────┤\n",
            "│   3 │ Is there any maturity benefit under this policy? Justify you... │ No, there is no maturity benefit under this policy. This is clearly stated in the policy document un... │ No, there is no maturity benefit under this policy. This is explicitly stated in Part C of the polic... │              1 │           1 │             1 │\n",
            "├─────┼─────────────────────────────────────────────────────────────────┼─────────────────────────────────────────────────────────────────────────────────────────────────────────┼─────────────────────────────────────────────────────────────────────────────────────────────────────────┼────────────────┼─────────────┼───────────────┤\n",
            "│   4 │ What are the options available to the nominee(s) for receivi... │ The nominee(s) have the option to receive the death benefit amount as a lump sum payment or choose t... │ The nominee can choose from: (1) Lump sum death benefit, (2) Annuitisation of the benefit amount int... │              1 │           1 │             1 │\n",
            "├─────┼─────────────────────────────────────────────────────────────────┼─────────────────────────────────────────────────────────────────────────────────────────────────────────┼─────────────────────────────────────────────────────────────────────────────────────────────────────────┼────────────────┼─────────────┼───────────────┤\n",
            "│   5 │ How is the “Additional Benefit on Death” calculated during t... │ The Additional Benefit on Death during the deferment period is calculated at the end of each policy ... │ It is calculated as (Purchase Price * Monthly annuity rate) / 12. This accrues at the end of each po... │              1 │           1 │             1 │\n",
            "╘═════╧═════════════════════════════════════════════════════════════════╧═════════════════════════════════════════════════════════════════════════════════════════════════════════╧═════════════════════════════════════════════════════════════════════════════════════════════════════════╧════════════════╧═════════════╧═══════════════╛\n"
          ]
        }
      ]
    },
    {
      "cell_type": "code",
      "source": [
        "for i, (q, ans, gt, f, rel, corr) in enumerate(zip(\n",
        "    questions, rag_outputs, ground_truths, faithfulness_scores, relevance_scores, correctness_scores), 1):\n",
        "\n",
        "    print(\"=\" * 100)\n",
        "    print(f\"🔹 Question {i}:\")\n",
        "    print(q)\n",
        "    print(\"\\n📝 Model Answer:\\n\", ans)\n",
        "    print(\"\\n🎯 Ground Truth:\\n\", gt)\n",
        "    print(f\"\\n📊 Scores → Faithfulness: {f:.2f} | Relevance: {rel:.2f} | Correctness: {corr:.2f}\")"
      ],
      "metadata": {
        "colab": {
          "base_uri": "https://localhost:8080/"
        },
        "id": "ybEBIwwVS4p9",
        "outputId": "490919ab-68df-438b-b5ed-174207503234"
      },
      "execution_count": 41,
      "outputs": [
        {
          "output_type": "stream",
          "name": "stdout",
          "text": [
            "====================================================================================================\n",
            "🔹 Question 1:\n",
            "What is the death benefit under the Joint Life deferred annuity option after the deferment period?\n",
            "\n",
            "📝 Model Answer:\n",
            " The death benefit under the Joint Life deferred annuity option after the deferment period is the higher of:\n",
            "1. Purchase Price plus Accrued Additional Benefit on Death (as specified in Condition 3 of Part C of the policy document) minus the total annuity amount payable till the date of death, or\n",
            "2. 105% of the Purchase Price. \n",
            "\n",
            "The Additional Benefit on Death accrues at the end of each policy month until the end of the Deferment Period only.\n",
            "\n",
            "🎯 Ground Truth:\n",
            " After the deferment period, under the Joint Life deferred annuity option, on the first death, the annuity continues for the surviving annuitant. Upon the death of the last survivor, the death benefit payable is higher of (a) Purchase Price plus Accrued Additional Benefit on Death minus Total annuity amount paid, or (b) 105% of Purchase Price.\n",
            "\n",
            "📊 Scores → Faithfulness: 1.00 | Relevance: 1.00 | Correctness: 1.00\n",
            "====================================================================================================\n",
            "🔹 Question 2:\n",
            "What are the conditions under which the policy can be surrendered and what is the surrender value calculation method?\n",
            "\n",
            "📝 Model Answer:\n",
            " The policy can be surrendered under certain conditions, and the surrender value calculation method is as follows:\n",
            "\n",
            "- Guaranteed Surrender Value (GSV) is calculated using the formula: Guaranteed Surrender Value = (GSV Factor * Purchase Price) minus total annuity amount payable up to the date of surrender. The GSV Factors vary based on the policy year, with factors of 75% for years 1, 2, and 3, and 90% for years 4, 5, and above.\n",
            "- Special Surrender Value is determined by the Corporation and is subject to review from time to time with prior approval from IRDAI.\n",
            "- The Surrender Value payable will be the higher of the Guaranteed Surrender Value or the Special Surrender Value.\n",
            "- Any outstanding loan amount, interest, or other recoverable amounts from the Annuitant will be deducted from the surrender value payment.\n",
            "\n",
            "🎯 Ground Truth:\n",
            " The policy can be surrendered at any time during its term. The surrender value is the higher of Guaranteed Surrender Value (GSV) or Special Surrender Value. GSV is calculated as (GSV Factor * Purchase Price) minus total annuity amount paid. The GSV Factor varies by policy year.\n",
            "\n",
            "📊 Scores → Faithfulness: 1.00 | Relevance: 1.00 | Correctness: 1.00\n",
            "====================================================================================================\n",
            "🔹 Question 3:\n",
            "Is there any maturity benefit under this policy? Justify your answer from the policy.\n",
            "\n",
            "📝 Model Answer:\n",
            " No, there is no maturity benefit under this policy. This is clearly stated in the policy document under the section \"Maturity Benefit,\" which explicitly states that there is no maturity benefit provided by this policy.\n",
            "\n",
            "🎯 Ground Truth:\n",
            " No, there is no maturity benefit under this policy. This is explicitly stated in Part C of the policy document.\n",
            "\n",
            "📊 Scores → Faithfulness: 1.00 | Relevance: 1.00 | Correctness: 1.00\n",
            "====================================================================================================\n",
            "🔹 Question 4:\n",
            "What are the options available to the nominee(s) for receiving the death benefit amount?\n",
            "\n",
            "📝 Model Answer:\n",
            " The nominee(s) have the option to receive the death benefit amount as a lump sum payment or choose to annuitize the amount, receiving it in installment payments over a period of time.\n",
            "\n",
            "🎯 Ground Truth:\n",
            " The nominee can choose from: (1) Lump sum death benefit, (2) Annuitisation of the benefit amount into an immediate annuity, or (3) Receiving the benefit in installments over 5, 10, or 15 years.\n",
            "\n",
            "📊 Scores → Faithfulness: 1.00 | Relevance: 1.00 | Correctness: 1.00\n",
            "====================================================================================================\n",
            "🔹 Question 5:\n",
            "How is the “Additional Benefit on Death” calculated during the deferment period?\n",
            "\n",
            "📝 Model Answer:\n",
            " The Additional Benefit on Death during the deferment period is calculated at the end of each policy month until the end of the deferment period. The formula to calculate the Additional Benefit on Death per month is as follows: \n",
            "\n",
            "Additional Benefit on Death per month = (Purchase Price * Annuity rate p.a. payable monthly) / 12\n",
            "\n",
            "The Annuity rate p.a. payable monthly is determined by the Monthly tabular annuity rate, which is based on the Option chosen, Age at entry of the annuitant(s), and the Deferment Period opted for. \n",
            "\n",
            "In the event of the death of the annuitant or surrender of the policy during the deferment period, the Additional Benefit on Death for the policy year in which the death/surrender occurs will accrue until the completed policy month as on the date of death/surrender.\n",
            "\n",
            "🎯 Ground Truth:\n",
            " It is calculated as (Purchase Price * Monthly annuity rate) / 12. This accrues at the end of each policy month only during the deferment period.\n",
            "\n",
            "📊 Scores → Faithfulness: 1.00 | Relevance: 1.00 | Correctness: 1.00\n"
          ]
        }
      ]
    },
    {
      "cell_type": "code",
      "source": [],
      "metadata": {
        "id": "oFk2A0GeU4aj"
      },
      "execution_count": null,
      "outputs": []
    }
  ]
}